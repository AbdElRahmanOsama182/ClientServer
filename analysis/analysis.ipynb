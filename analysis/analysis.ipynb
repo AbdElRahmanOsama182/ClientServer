{
 "cells": [
  {
   "cell_type": "code",
   "execution_count": null,
   "metadata": {},
   "outputs": [],
   "source": [
    "import json\n",
    "import csv\n",
    "import pandas as pd\n",
    "import matplotlib.pyplot as plt\n",
    "import matplotlib.dates as mdates"
   ]
  },
  {
   "cell_type": "code",
   "execution_count": null,
   "metadata": {},
   "outputs": [],
   "source": [
    "def json_to_csv(json_file, csv_file):\n",
    "    json_data = None\n",
    "    with open(json_file, 'r') as file:\n",
    "        json_data = json.load(file)\n",
    "\n",
    "    fieldnames = [field for field in json_data[0].keys() if field != 'time']\n",
    "\n",
    "    # Write the CSV file\n",
    "    with open(csv_file, 'w', newline='') as csvfile:\n",
    "        writer = csv.writer(csvfile)\n",
    "        # Write the header row\n",
    "        writer.writerow(['time'] + fieldnames)\n",
    "        # Write the data rows\n",
    "        for row in json_data:\n",
    "            time_value = row['time']\n",
    "            other_values = [value[1] for value in row.values() if value[0] == time_value]\n",
    "            writer.writerow([time_value] + other_values)"
   ]
  },
  {
   "cell_type": "code",
   "execution_count": null,
   "metadata": {},
   "outputs": [],
   "source": [
    "json_to_csv('data.json', 'data.csv')"
   ]
  },
  {
   "cell_type": "code",
   "execution_count": null,
   "metadata": {},
   "outputs": [],
   "source": [
    "data = pd.read_csv('data.csv')\n",
    "\n",
    "# Plot the data\n",
    "plt.figure(figsize=(13, 5), dpi=80, constrained_layout=True)\n",
    "plt.gcf().set_facecolor('#27272a')\n",
    "plt.plot(data['user_count'], data['total_avg_response_time'], color='#0099ff', marker='o', markersize=2)\n",
    "\n",
    "# Customize the plot\n",
    "plt.title('Response Time vs. Number Of Users', color='#b3c3bc', pad=15, fontweight='semibold', loc='left', fontsize=20, fontname='Arial')\n",
    "plt.xlabel('Number Of Users', labelpad=15, color='#b3c3bc', fontsize=13, fontname='Arial')\n",
    "plt.ylabel('Response Time', labelpad=15, color='#b3c3bc', fontsize=13, fontname='Arial')\n",
    "plt.grid(axis='y')\n",
    "plt.gca().set_facecolor('#27272a')\n",
    "plt.gca().tick_params(axis='x', colors='#b3c3bc')\n",
    "plt.gca().tick_params(axis='y', colors='#b3c3bc')\n",
    "plt.gca().spines['bottom'].set_color('#b3c3bc')\n",
    "plt.gca().spines['left'].set_visible(False)\n",
    "plt.gca().spines['top'].set_visible(False)\n",
    "plt.gca().spines['right'].set_visible(False)\n",
    "plt.gca().yaxis.grid(color='#434348')\n",
    "plt.show()"
   ]
  }
 ],
 "metadata": {
  "kernelspec": {
   "display_name": "Python 3",
   "language": "python",
   "name": "python3"
  },
  "language_info": {
   "codemirror_mode": {
    "name": "ipython",
    "version": 3
   },
   "file_extension": ".py",
   "mimetype": "text/x-python",
   "name": "python",
   "nbconvert_exporter": "python",
   "pygments_lexer": "ipython3",
   "version": "3.11.7"
  }
 },
 "nbformat": 4,
 "nbformat_minor": 2
}
